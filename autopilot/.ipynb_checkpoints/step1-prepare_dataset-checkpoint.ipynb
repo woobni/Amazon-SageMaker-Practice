{
 "cells": [
  {
   "cell_type": "markdown",
   "metadata": {},
   "source": [
    "# Churn Prediction with Amazon SageMaker Autopilot\n",
    "---"
   ]
  },
  {
   "cell_type": "markdown",
   "metadata": {},
   "source": [
    "Amazon SageMaker Autopilot은 테이블 형식의 정형(tabular) 데이터셋을 위한 자동화된 머신 러닝 (일반적으로 AutoML 이라고 합니다) 솔루션입니다. \n",
    "현재 Amazon SageMaker Autopilot은 아래 기능들을 지원합니다.\n",
    "* 테이블 형식의 입력 데이터; 자동 데이터 정제 및 전처리 지원\n",
    "* 선형 회귀(Linear Regression), 이진 분류(Binary Classification), 및 다중 클래스(Multi-class Classification) 분류를 위한 자동 알고리즘 선택\n",
    "* 자동 하이퍼 파라미터 최적화(Automatic Hyperparameter Optimization)\n",
    "* 분산 학습(Distributed Training)\n",
    "* 인스턴스 및 클러스터 크기 선택 자동 수행\n",
    "\n",
    "이 노트북은 Churn Prediction 데이터셋에서 Autopilot을 사용하여 여러 가지 잠재적인 옵션 또는\n",
    "\"후보자(candidates)\"를 탐색하여 가장 정확한 ML 파이프라인을 얻는 방법을 보여줍니다. Amazon SageMaker Autopilot을 사용하기 위한 준비 작업은 매우 간단합니다.\n",
    "\n",
    "* CSV/txt 포맷의 정형 데이터를 다운로드받은 후, 학습셋/검증셋으로 분리하여 Amazon S3에 업로드합니다. 이 작업을 본 jupyter 노트북에서 수행합니다.\n",
    "* Amazon SageMaker Studio나 AWS SDK/CLI를 사용하여 Autopilot을 사용합니다. Autopilot에 의해 생성된 각 후보는 두 단계로 구성됩니다. 본 핸즈온에서는 Amazon SageMaker Studio로 이를 수행해 봅니다.\n",
    "    * Step 1. 데이터셋에서 자동화된 피쳐 엔지니어링 수행\n",
    "    * Step 2. 모델 학습 및 하이퍼파라메터 최적화\n",
    "    \n",
    "Churn Prediction 데이터셋에 대한 자세한 내용은 아래의 논문을 참조하십시오.\n",
    "* Paper: https://erpublication.org/published_paper/IJETR032129.pdf\n",
    "* Dataset URL: http://dataminingconsultant.com/DKD2e_data_sets.zip"
   ]
  },
  {
   "cell_type": "markdown",
   "metadata": {},
   "source": [
    "## 준비"
   ]
  },
  {
   "cell_type": "code",
   "execution_count": 12,
   "metadata": {
    "tags": []
   },
   "outputs": [
    {
     "name": "stderr",
     "output_type": "stream",
     "text": [
      "WARNING: Running pip as the 'root' user can result in broken permissions and conflicting behaviour with the system package manager. It is recommended to use a virtual environment instead: https://pip.pypa.io/warnings/venv\n",
      "ERROR: pip's dependency resolver does not currently take into account all the packages that are installed. This behaviour is the source of the following dependency conflicts.\n",
      "aiobotocore 2.4.1 requires botocore<1.27.60,>=1.27.59, but you have botocore 1.29.65 which is incompatible.\n",
      "WARNING: Running pip as the 'root' user can result in broken permissions and conflicting behaviour with the system package manager. It is recommended to use a virtual environment instead: https://pip.pypa.io/warnings/venv\n"
     ]
    }
   ],
   "source": [
    "%%sh\n",
    "pip install -q --upgrade pip\n",
    "pip install -q sagemaker smdebug smdebug-rulesconfig==0.1.4 awscli pandas --upgrade"
   ]
  },
  {
   "cell_type": "code",
   "execution_count": 30,
   "metadata": {
    "tags": []
   },
   "outputs": [
    {
     "name": "stdout",
     "output_type": "stream",
     "text": [
      "Working Folder:  /root/sagemaker-studio-workshop-kr/autopilot\n"
     ]
    }
   ],
   "source": [
    "import sagemaker\n",
    "import pandas as pd\n",
    "import os\n",
    "os.chdir(\"/\")\n",
    "wk_folder = \"root/sagemaker-studio-workshop-kr/autopilot/\"\n",
    "os.chdir(wk_folder)\n",
    "\n",
    "print(\"Working Folder: \", os.getcwd())"
   ]
  },
  {
   "cell_type": "markdown",
   "metadata": {},
   "source": [
    "## 데이터셋 로드"
   ]
  },
  {
   "cell_type": "code",
   "execution_count": 31,
   "metadata": {
    "tags": []
   },
   "outputs": [
    {
     "data": {
      "text/plain": [
       "(3333, 21)"
      ]
     },
     "execution_count": 31,
     "metadata": {},
     "output_type": "execute_result"
    }
   ],
   "source": [
    "import pandas as pd\n",
    "\n",
    "df = pd.read_csv('churn.txt')\n",
    "num_samples = len(df)\n",
    "pd.set_option('display.max_rows', 50)\n",
    "df.shape"
   ]
  },
  {
   "cell_type": "code",
   "execution_count": 32,
   "metadata": {
    "tags": []
   },
   "outputs": [
    {
     "data": {
      "text/plain": [
       "False.    2850\n",
       "True.      483\n",
       "Name: Churn?, dtype: int64"
      ]
     },
     "execution_count": 32,
     "metadata": {},
     "output_type": "execute_result"
    }
   ],
   "source": [
    "df['Churn?'].value_counts()"
   ]
  },
  {
   "cell_type": "code",
   "execution_count": 33,
   "metadata": {
    "tags": []
   },
   "outputs": [
    {
     "data": {
      "text/html": [
       "<div>\n",
       "<style scoped>\n",
       "    .dataframe tbody tr th:only-of-type {\n",
       "        vertical-align: middle;\n",
       "    }\n",
       "\n",
       "    .dataframe tbody tr th {\n",
       "        vertical-align: top;\n",
       "    }\n",
       "\n",
       "    .dataframe thead th {\n",
       "        text-align: right;\n",
       "    }\n",
       "</style>\n",
       "<table border=\"1\" class=\"dataframe\">\n",
       "  <thead>\n",
       "    <tr style=\"text-align: right;\">\n",
       "      <th></th>\n",
       "      <th>State</th>\n",
       "      <th>Account Length</th>\n",
       "      <th>Area Code</th>\n",
       "      <th>Phone</th>\n",
       "      <th>Int'l Plan</th>\n",
       "      <th>VMail Plan</th>\n",
       "      <th>VMail Message</th>\n",
       "      <th>Day Mins</th>\n",
       "      <th>Day Calls</th>\n",
       "      <th>Day Charge</th>\n",
       "      <th>...</th>\n",
       "      <th>Eve Calls</th>\n",
       "      <th>Eve Charge</th>\n",
       "      <th>Night Mins</th>\n",
       "      <th>Night Calls</th>\n",
       "      <th>Night Charge</th>\n",
       "      <th>Intl Mins</th>\n",
       "      <th>Intl Calls</th>\n",
       "      <th>Intl Charge</th>\n",
       "      <th>CustServ Calls</th>\n",
       "      <th>Churn?</th>\n",
       "    </tr>\n",
       "  </thead>\n",
       "  <tbody>\n",
       "    <tr>\n",
       "      <th>0</th>\n",
       "      <td>KS</td>\n",
       "      <td>128</td>\n",
       "      <td>415</td>\n",
       "      <td>382-4657</td>\n",
       "      <td>no</td>\n",
       "      <td>yes</td>\n",
       "      <td>25</td>\n",
       "      <td>265.1</td>\n",
       "      <td>110</td>\n",
       "      <td>45.07</td>\n",
       "      <td>...</td>\n",
       "      <td>99</td>\n",
       "      <td>16.78</td>\n",
       "      <td>244.7</td>\n",
       "      <td>91</td>\n",
       "      <td>11.01</td>\n",
       "      <td>10.0</td>\n",
       "      <td>3</td>\n",
       "      <td>2.70</td>\n",
       "      <td>1</td>\n",
       "      <td>False.</td>\n",
       "    </tr>\n",
       "    <tr>\n",
       "      <th>1</th>\n",
       "      <td>OH</td>\n",
       "      <td>107</td>\n",
       "      <td>415</td>\n",
       "      <td>371-7191</td>\n",
       "      <td>no</td>\n",
       "      <td>yes</td>\n",
       "      <td>26</td>\n",
       "      <td>161.6</td>\n",
       "      <td>123</td>\n",
       "      <td>27.47</td>\n",
       "      <td>...</td>\n",
       "      <td>103</td>\n",
       "      <td>16.62</td>\n",
       "      <td>254.4</td>\n",
       "      <td>103</td>\n",
       "      <td>11.45</td>\n",
       "      <td>13.7</td>\n",
       "      <td>3</td>\n",
       "      <td>3.70</td>\n",
       "      <td>1</td>\n",
       "      <td>False.</td>\n",
       "    </tr>\n",
       "    <tr>\n",
       "      <th>2</th>\n",
       "      <td>NJ</td>\n",
       "      <td>137</td>\n",
       "      <td>415</td>\n",
       "      <td>358-1921</td>\n",
       "      <td>no</td>\n",
       "      <td>no</td>\n",
       "      <td>0</td>\n",
       "      <td>243.4</td>\n",
       "      <td>114</td>\n",
       "      <td>41.38</td>\n",
       "      <td>...</td>\n",
       "      <td>110</td>\n",
       "      <td>10.30</td>\n",
       "      <td>162.6</td>\n",
       "      <td>104</td>\n",
       "      <td>7.32</td>\n",
       "      <td>12.2</td>\n",
       "      <td>5</td>\n",
       "      <td>3.29</td>\n",
       "      <td>0</td>\n",
       "      <td>False.</td>\n",
       "    </tr>\n",
       "    <tr>\n",
       "      <th>3</th>\n",
       "      <td>OH</td>\n",
       "      <td>84</td>\n",
       "      <td>408</td>\n",
       "      <td>375-9999</td>\n",
       "      <td>yes</td>\n",
       "      <td>no</td>\n",
       "      <td>0</td>\n",
       "      <td>299.4</td>\n",
       "      <td>71</td>\n",
       "      <td>50.90</td>\n",
       "      <td>...</td>\n",
       "      <td>88</td>\n",
       "      <td>5.26</td>\n",
       "      <td>196.9</td>\n",
       "      <td>89</td>\n",
       "      <td>8.86</td>\n",
       "      <td>6.6</td>\n",
       "      <td>7</td>\n",
       "      <td>1.78</td>\n",
       "      <td>2</td>\n",
       "      <td>False.</td>\n",
       "    </tr>\n",
       "    <tr>\n",
       "      <th>4</th>\n",
       "      <td>OK</td>\n",
       "      <td>75</td>\n",
       "      <td>415</td>\n",
       "      <td>330-6626</td>\n",
       "      <td>yes</td>\n",
       "      <td>no</td>\n",
       "      <td>0</td>\n",
       "      <td>166.7</td>\n",
       "      <td>113</td>\n",
       "      <td>28.34</td>\n",
       "      <td>...</td>\n",
       "      <td>122</td>\n",
       "      <td>12.61</td>\n",
       "      <td>186.9</td>\n",
       "      <td>121</td>\n",
       "      <td>8.41</td>\n",
       "      <td>10.1</td>\n",
       "      <td>3</td>\n",
       "      <td>2.73</td>\n",
       "      <td>3</td>\n",
       "      <td>False.</td>\n",
       "    </tr>\n",
       "  </tbody>\n",
       "</table>\n",
       "<p>5 rows × 21 columns</p>\n",
       "</div>"
      ],
      "text/plain": [
       "  State  Account Length  Area Code     Phone Int'l Plan VMail Plan  \\\n",
       "0    KS             128        415  382-4657         no        yes   \n",
       "1    OH             107        415  371-7191         no        yes   \n",
       "2    NJ             137        415  358-1921         no         no   \n",
       "3    OH              84        408  375-9999        yes         no   \n",
       "4    OK              75        415  330-6626        yes         no   \n",
       "\n",
       "   VMail Message  Day Mins  Day Calls  Day Charge  ...  Eve Calls  Eve Charge  \\\n",
       "0             25     265.1        110       45.07  ...         99       16.78   \n",
       "1             26     161.6        123       27.47  ...        103       16.62   \n",
       "2              0     243.4        114       41.38  ...        110       10.30   \n",
       "3              0     299.4         71       50.90  ...         88        5.26   \n",
       "4              0     166.7        113       28.34  ...        122       12.61   \n",
       "\n",
       "   Night Mins  Night Calls  Night Charge  Intl Mins  Intl Calls  Intl Charge  \\\n",
       "0       244.7           91         11.01       10.0           3         2.70   \n",
       "1       254.4          103         11.45       13.7           3         3.70   \n",
       "2       162.6          104          7.32       12.2           5         3.29   \n",
       "3       196.9           89          8.86        6.6           7         1.78   \n",
       "4       186.9          121          8.41       10.1           3         2.73   \n",
       "\n",
       "   CustServ Calls  Churn?  \n",
       "0               1  False.  \n",
       "1               1  False.  \n",
       "2               0  False.  \n",
       "3               2  False.  \n",
       "4               3  False.  \n",
       "\n",
       "[5 rows x 21 columns]"
      ]
     },
     "execution_count": 33,
     "metadata": {},
     "output_type": "execute_result"
    }
   ],
   "source": [
    "df.head()"
   ]
  },
  {
   "cell_type": "markdown",
   "metadata": {},
   "source": [
    "## 데이터셋 분할 후 Amazon S3에 각 데이터셋 업로드"
   ]
  },
  {
   "cell_type": "code",
   "execution_count": 34,
   "metadata": {},
   "outputs": [],
   "source": [
    "import numpy as np\n",
    "train_df, valid_df ,_ = np.split(df.sample(frac=1, random_state=42),\n",
    "                               [int(0.8 * num_samples), int(num_samples)])"
   ]
  },
  {
   "cell_type": "code",
   "execution_count": 39,
   "metadata": {
    "tags": []
   },
   "outputs": [
    {
     "data": {
      "text/plain": [
       "[     State  Account Length  Area Code     Phone Int'l Plan VMail Plan  \\\n",
       " 438     WY             113        510  352-6573         no         no   \n",
       " 2674    IL              67        415  369-4377         no         no   \n",
       " 1345    SD              98        415  392-2555         no         no   \n",
       " 1957    KY             147        408  396-2945         no         no   \n",
       " 2148    WY              96        408  329-2045         no         no   \n",
       " ...    ...             ...        ...       ...        ...        ...   \n",
       " 2105    NY              40        408  416-7591         no         no   \n",
       " 133     TX              82        408  400-3446         no         no   \n",
       " 1140    LA               9        415  409-9885         no        yes   \n",
       " 933     KY              74        510  368-7555        yes         no   \n",
       " 928     ME             205        510  413-4039         no        yes   \n",
       " \n",
       "       VMail Message  Day Mins  Day Calls  Day Charge  ...  Eve Calls  \\\n",
       " 438               0     155.0         93       26.35  ...        106   \n",
       " 2674              0     109.1        117       18.55  ...        124   \n",
       " 1345              0       0.0          0        0.00  ...        130   \n",
       " 1957              0     212.8         79       36.18  ...         91   \n",
       " 2148              0     144.0        102       24.48  ...         73   \n",
       " ...             ...       ...        ...         ...  ...        ...   \n",
       " 2105              0     242.5         82       41.23  ...         97   \n",
       " 133               0     200.3         96       34.05  ...        102   \n",
       " 1140             39     214.1        108       36.40  ...        115   \n",
       " 933               0     125.8        103       21.39  ...         96   \n",
       " 928              24     175.8        139       29.89  ...         98   \n",
       " \n",
       "       Eve Charge  Night Mins  Night Calls  Night Charge  Intl Mins  \\\n",
       " 438        28.10       189.4          123          8.52       13.5   \n",
       " 2674       18.48       188.4          141          8.48       12.8   \n",
       " 1345       13.57       167.1           88          7.52        6.8   \n",
       " 1957       17.35       156.2          113          7.03       10.2   \n",
       " 2148       19.10       227.7           91         10.25       10.0   \n",
       " ...          ...         ...          ...           ...        ...   \n",
       " 2105       19.80       154.0           86          6.93        9.6   \n",
       " 133        17.10       206.1           60          9.27        7.1   \n",
       " 1140       14.38       189.7          117          8.54       10.1   \n",
       " 933        17.65       207.4          143          9.33       14.1   \n",
       " 928        13.18       180.7           64          8.13        7.8   \n",
       " \n",
       "       Intl Calls  Intl Charge  CustServ Calls  Churn?  \n",
       " 438            3         3.65               1  False.  \n",
       " 2674           6         3.46               0  False.  \n",
       " 1345           1         1.84               4   True.  \n",
       " 1957           2         2.75               1  False.  \n",
       " 2148           7         2.70               1  False.  \n",
       " ...          ...          ...             ...     ...  \n",
       " 2105           7         2.59               0  False.  \n",
       " 133            1         1.92               4  False.  \n",
       " 1140           3         2.73               1  False.  \n",
       " 933            4         3.81               1   True.  \n",
       " 928            5         2.11               2  False.  \n",
       " \n",
       " [2666 rows x 21 columns],\n",
       "      State  Account Length  Area Code     Phone Int'l Plan VMail Plan  \\\n",
       " 823     PA              77        510  346-6941         no        yes   \n",
       " 1531    DE             138        510  380-7816        yes         no   \n",
       " 1214    MN             122        415  421-2659         no         no   \n",
       " 504     NM              80        510  334-9806         no         no   \n",
       " 3294    MO             116        408  371-1139         no         no   \n",
       " ...    ...             ...        ...       ...        ...        ...   \n",
       " 1095    ID             106        510  383-2566         no         no   \n",
       " 1130    PA             122        415  361-5225         no         no   \n",
       " 1294    OR              66        408  348-7409         no         no   \n",
       " 860     HI             169        415  334-3289         no         no   \n",
       " 3174    SC              36        408  359-5091         no        yes   \n",
       " \n",
       "       VMail Message  Day Mins  Day Calls  Day Charge  ...  Eve Calls  \\\n",
       " 823              24     149.4         74       25.40  ...         72   \n",
       " 1531              0      46.5        104        7.91  ...        114   \n",
       " 1214              0     107.9         88       18.34  ...        109   \n",
       " 504               0     206.3         97       35.07  ...         98   \n",
       " 3294              0      51.1        106        8.69  ...        137   \n",
       " ...             ...       ...        ...         ...  ...        ...   \n",
       " 1095              0     274.4        120       46.65  ...         82   \n",
       " 1130              0      35.1         62        5.97  ...         89   \n",
       " 1294              0      87.6         76       14.89  ...        111   \n",
       " 860               0     179.2        111       30.46  ...        130   \n",
       " 3174             43      29.9        123        5.08  ...        117   \n",
       " \n",
       "       Eve Charge  Night Mins  Night Calls  Night Charge  Intl Mins  \\\n",
       " 823        10.53       174.3           84          7.84       10.1   \n",
       " 1531       15.81       167.5           95          7.54        9.6   \n",
       " 1214       20.04       228.6          119         10.29        9.5   \n",
       " 504        13.17       263.6           82         11.86       12.4   \n",
       " 3294       17.73       198.0           92          8.91       12.3   \n",
       " ...          ...         ...          ...           ...        ...   \n",
       " 1095       16.88       160.8           62          7.24        6.0   \n",
       " 1130       15.37       251.6           58         11.32       12.7   \n",
       " 1294       22.27       184.6          125          8.31        9.2   \n",
       " 860        14.89       228.6           92         10.29        9.9   \n",
       " 3174       10.97       325.9          105         14.67        8.6   \n",
       " \n",
       "       Intl Calls  Intl Charge  CustServ Calls  Churn?  \n",
       " 823            6         2.73               1  False.  \n",
       " 1531           4         2.59               4   True.  \n",
       " 1214           3         2.57               2  False.  \n",
       " 504           12         3.35               0  False.  \n",
       " 3294           3         3.32               1  False.  \n",
       " ...          ...          ...             ...     ...  \n",
       " 1095           3         1.62               1  False.  \n",
       " 1130           2         3.43               1  False.  \n",
       " 1294           5         2.48               1  False.  \n",
       " 860            6         2.67               2  False.  \n",
       " 3174           6         2.32               2  False.  \n",
       " \n",
       " [667 rows x 21 columns],\n",
       " Empty DataFrame\n",
       " Columns: [State, Account Length, Area Code, Phone, Int'l Plan, VMail Plan, VMail Message, Day Mins, Day Calls, Day Charge, Eve Mins, Eve Calls, Eve Charge, Night Mins, Night Calls, Night Charge, Intl Mins, Intl Calls, Intl Charge, CustServ Calls, Churn?]\n",
       " Index: []\n",
       " \n",
       " [0 rows x 21 columns]]"
      ]
     },
     "execution_count": 39,
     "metadata": {},
     "output_type": "execute_result"
    }
   ],
   "source": [
    "np.split(df.sample(frac=1, random_state=42),\n",
    "                               [int(0.8 * num_samples), int(num_samples)])"
   ]
  },
  {
   "cell_type": "code",
   "execution_count": 40,
   "metadata": {},
   "outputs": [],
   "source": [
    "train_df.to_csv('automl-train.csv', index=False, header=True, sep=',')\n",
    "valid_df.to_csv('automl-valid.csv', index=False, header=True, sep=',')"
   ]
  },
  {
   "cell_type": "code",
   "execution_count": 43,
   "metadata": {},
   "outputs": [
    {
     "name": "stdout",
     "output_type": "stream",
     "text": [
      "sagemaker-ap-northeast-2-938531851447\n"
     ]
    }
   ],
   "source": [
    "import sagemaker\n",
    "bucket = sagemaker.Session().default_bucket() \n",
    "# bucket = 'sagemaker-studio-woobin' # YOUR OWN BUCKET\n",
    "prefix = 'automl-house-price/input'\n",
    "sess = sagemaker.Session()\n",
    "uri = sess.upload_data(path='automl-train.csv', bucket = bucket, key_prefix=prefix)\n",
    "\n",
    "print(bucket)"
   ]
  },
  {
   "cell_type": "code",
   "execution_count": null,
   "metadata": {},
   "outputs": [],
   "source": []
  }
 ],
 "metadata": {
  "instance_type": "ml.t3.medium",
  "kernelspec": {
   "display_name": "Python 3 (Data Science)",
   "language": "python",
   "name": "python3__SAGEMAKER_INTERNAL__arn:aws:sagemaker:ap-northeast-2:806072073708:image/datascience-1.0"
  },
  "language_info": {
   "codemirror_mode": {
    "name": "ipython",
    "version": 3
   },
   "file_extension": ".py",
   "mimetype": "text/x-python",
   "name": "python",
   "nbconvert_exporter": "python",
   "pygments_lexer": "ipython3",
   "version": "3.7.10"
  }
 },
 "nbformat": 4,
 "nbformat_minor": 4
}
